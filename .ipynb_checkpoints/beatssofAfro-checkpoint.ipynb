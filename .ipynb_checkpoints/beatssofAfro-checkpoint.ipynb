{
 "cells": [
  {
   "cell_type": "code",
   "execution_count": 996,
   "metadata": {},
   "outputs": [],
   "source": [
    "import spotipy\n",
    "import spotipy.util as util\n",
    "from spotipy.oauth2 import SpotifyClientCredentials\n",
    "import pandas as pd\n",
    "import numpy as np\n",
    "import matplotlib.pyplot as plt\n",
    "import seaborn as sns\n",
    "%matplotlib inline\n",
    "import warnings\n",
    "warnings.filterwarnings('ignore')"
   ]
  },
  {
   "cell_type": "code",
   "execution_count": 997,
   "metadata": {},
   "outputs": [],
   "source": [
    "Client_ID = \"xxxxxxxxxxxxx\"\n",
    "Client_Secret = \"xxxxxxxxxxxxxx\"\n",
    "\n",
    "client_credentials_manager = SpotifyClientCredentials(client_id=Client_ID,client_secret=Client_Secret)\n",
    "sp = spotipy.Spotify(client_credentials_manager=client_credentials_manager)"
   ]
  },
  {
   "cell_type": "code",
   "execution_count": 998,
   "metadata": {},
   "outputs": [],
   "source": [
    "# Sample playlist \n",
    "playlist_creator = \"Wandy Alex\"\n",
    "playlist_id =  \"4zDi7Tpo2GidXBuRFS7J8x\""
   ]
  },
  {
   "cell_type": "code",
   "execution_count": 999,
   "metadata": {},
   "outputs": [],
   "source": [
    "def analyze_playlist(creator, playlist_id):\n",
    "    \n",
    "    \"\"\"\n",
    "    args: name of playlist owner, playlist ID\n",
    "    returns: pd dataframe \n",
    "    \"\"\"\n",
    "    \n",
    "    # Create empty dataframe\n",
    "    playlist_features_list = [\"artist\", \"album\",\"track_name\", \"track_id\", \n",
    "                             \"danceability\", \"energy\", \"key\", \"loudness\", \"mode\", \"speechiness\",\n",
    "                             \"instrumentalness\", \"liveness\", \"valence\", \"tempo\", \"duration_ms\", \"time_signature\",\"acousticness\"]\n",
    "    playlist_df = pd.DataFrame(columns = playlist_features_list)\n",
    "    \n",
    "    # Create empty dict\n",
    "    playlist_features = {}\n",
    "    \n",
    "    # Loop through every track in the playlist, extract features and append the features to the playlist df\n",
    "    playlist = sp.user_playlist_tracks(creator, playlist_id)[\"items\"]\n",
    "    for track in playlist:\n",
    "        # Get metadata\n",
    "        playlist_features[\"artist\"] = track[\"track\"][\"album\"][\"artists\"][0][\"name\"]\n",
    "        playlist_features[\"album\"] = track[\"track\"][\"album\"][\"name\"]\n",
    "        playlist_features[\"track_name\"] = track[\"track\"][\"name\"]\n",
    "        playlist_features[\"track_id\"] = track[\"track\"][\"id\"]\n",
    "        # Get track popularity from diff endpoint\n",
    "        popularity = sp.track(playlist_features[\"track_id\"])[\"popularity\"]\n",
    "        playlist_features[\"popularity\"] = popularity\n",
    "        # Get audio features\n",
    "        audio_features = sp.audio_features(playlist_features[\"track_id\"])[0]\n",
    "        for feature in playlist_features_list[4:]:\n",
    "            playlist_features[feature] = audio_features[feature]\n",
    "        \n",
    "        # Concat the two dataframes \n",
    "        track_df = pd.DataFrame(playlist_features, index = [0])\n",
    "        playlist_df = pd.concat([playlist_df, track_df], ignore_index = True, sort=True)\n",
    "        \n",
    "    return playlist_df"
   ]
  },
  {
   "cell_type": "code",
   "execution_count": 1000,
   "metadata": {},
   "outputs": [],
   "source": [
    "playlist_df = analyze_playlist(playlist_creator, playlist_id)"
   ]
  },
  {
   "cell_type": "code",
   "execution_count": 1002,
   "metadata": {},
   "outputs": [],
   "source": [
    "# Dict of sample playlists \n",
    "\n",
    "playlist_dict = {\n",
    "    \"Afrobeats 2008 - 2010\" : (\"James Okai\", \"4rZIwNEmBr8nGA9uWpkbEO\"),\n",
    "    \"Afrobeats 2011\" : (\"James Okai\", \"3lHrGoybtf2YXtYbosTePW\"),\n",
    "    \"Afrobeats 2012\" : (\"James Okai\", \"0IsKxqhBrseS4cjSvCZI7I\"), \n",
    "    \"Afrobeats 2013\" : (\"James Okai\", \"2NXEKf7dKn0NNQCuj4Rniz\"),\n",
    "    \"Afrobeats 2014\" : (\"James Okai\", \"6Vy0hXleg1ojR4mq57w4Fg\"),\n",
    "    \"Afrobeats 2015\" : (\"James Okai\", \"2fJOQI1m08OKVvjqZyJjCJ\"),\n",
    "    \"Afrobeats 2016\" : (\"James Okai\", \"5D8Ri2l5XSAsuzZrRVvFqR\"),\n",
    "    \"Afrobeats 2017\" : (\"James Okai\", \"1yEJSlGQtlpJKTKYEtIed9\"),\n",
    "    \"Afrobeats 2018\" : (\"Wandey Alex\", \"4p0u8zuTf7YMDZmHMyJXdL\"),\n",
    "    \"Naija Mix 2012-2016\" : (\"Temitope A\", \"7kZ0gON0LYp8QXpXOIZtto\"),\n",
    "    \"Naija Rap Heavyweights\" : (\"Temitope A\", \"41wh6PJQHZf3NiH6Md7Ufb\"),\n",
    "    \"Naija(Afrobeats) Mix 2020\" : (\"Chioma Chuks-Okeke\", \"2n8POxkiNjLibFSTwe4u7p\"),\n",
    "    \"9ice Bashorun - Deluxe Tradition Hits\" : (\"Wandy Alex\", \"4zDi7Tpo2GidXBuRFS7J8x\"),\n",
    "    \"This is Mr Eazi\" : (\"Spotify\", \"37i9dQZF1DZ06evO2Sc0Gk\"),\n",
    "    \"This is Davido\" : (\"Spotify\", \"37i9dQZF1DZ06evO0vEAMw\"),\n",
    "    \"This is Duncan Mighty\" : (\"Spotify\", \"37i9dQZF1DZ06evO3pzZE8\"),\n",
    "    \"Complete Tiwa Savage\" : (\"Universal Music Africa\", \"2nCEg4IM7a26KlM2YF0TeX\"),\n",
    "    \"This is Olamide\" : (\"Spotify\", \"37i9dQZF1DZ06evO2zuHdg\"),\n",
    "    \"This is Falz\" : (\"Spotify\", \"37i9dQZF1DZ06evO1oZzd7\"),\n",
    "    \"Alhaji Tekno\" : (\"Toye Fadoju\", \"2G7R3LT1eIVgyehIeocn4x\"),\n",
    "    \"This is Phyno\" : (\"Spotify\", \"37i9dQZF1DZ06evO3DuO6L\"),\n",
    "    \"This is Rema\" : (\"Spotify\", \"37i9dQZF1DZ06evO2oBSta\"),\n",
    "    \"This is Burna Boy\" : (\"Spotify\", \"37i9dQZF1DZ06evO22OCjn\"),\n",
    "    \"This is Kizz Daniel\" : (\"fzongah\", \"4ARmBBOSj8ukn0njQ8iA6J\"),\n",
    "    \"This is Wizkid\" : (\"Spotify\", \"37i9dQZF1DZ06evO21rV4I\"),\n",
    "    \"This is Yemi Alade\" : (\"Spotify\", \"37i9dQZF1DZ06evO4i95QA\"),\n",
    "    \"This is Adekunle Gold\" : (\"Favour Ifeakachukwu\", \"5y7Dap1HmNAW5B1Lz1Xcwo\"),\n",
    "    \"This is 2Baba\" : (\"Spotify\", \"37i9dQZF1DZ06evO1m1kAx\"),\n",
    "    \"This is D'banj\" : (\"Spotify\", \"37i9dQZF1DZ06evO3sjCbn\"),\n",
    "    \"This is P-Square\" : (\"Spotify\", \"37i9dQZF1DZ06evO2mo7Sy\"),\n",
    "    \"This is Sarkodie\" : (\"Spotify\", \"37i9dQZF1DZ06evNZWvDTe\"),\n",
    "    \"This is Brymo\" : (\"Spotify\", \"37i9dQZF1DZ06evO00Z5yp\"),\n",
    "    \"This is M.I Abaga\" : (\"Spotify\", \"37i9dQZF1DZ06evO0a4ZGD\"),\n",
    "    \"This is Timaya\" : (\"Spotify\", \"37i9dQZF1DZ06evO4iGtt9\"),\n",
    "    \"This is Flavour\" : (\"Spotify\", \"37i9dQZF1DZ06evO0aq5ZS\"),\n",
    "    \"This is Naira Marley\" : (\"Pelumiab\", \"0efmjYsDSiD1ei4EMEThs6\"),\n",
    "    \"UMU OBILIGBO\" : (\"Herbert Nnadi\", \"7pBzd1FBgMzQuDgIcicfBo\"),\n",
    "    \"Zlatan Ibile\" : (\"Youngdon Sammy\", \"70Mb9DJja4uPjA3vrsk31a\"),\n",
    "    \"this is runtown\" : (\"Ademokoro\", \"1N7r8izW1nh0XHaN7PvVvC\"),\n",
    "    \"This Is Patoranking\" : (\"Spotify\", \"37i9dQZF1DZ06evO1iOLV6\"),\n",
    "    \"This Is Harrysong\" : (\"Spotify\", \"37i9dQZF1DZ06evO1TOS8o\"),\n",
    "    \"This Is Bracket\" : (\"Spotify\", \"37i9dQZF1DZ06evO3RWMDS\"),\n",
    "    \"This Is Wande Coal\" : (\"Spotify\", \"37i9dQZF1DZ06evO0GrPK3\"),\n",
    "    \"This Is Banky W.\" : (\"Youngdon Sammy\", \"37i9dQZF1DZ06evO0E6UFY\"),\n",
    "    \"This Is Maleek Berry\" : (\"Spotify\", \"37i9dQZF1DZ06evO2XgjAc\"),\n",
    "    \"This Is Vector\" : (\"Spotify\", \"37i9dQZF1DZ06evO1goAuK\"),\n",
    "    \"Best Afropop Songs of the 2010s\" : (\"Spotify\", \"37i9dQZF1DWWHMKZF8dZSb\"),\n",
    "    \"Simi Adekunle\" : (\"veronicalola\", \"7nzVDKoU3nL3WMmbn6fRnu\"),\n",
    "    \"Teni - Uyo Meyo\" : (\"Friday\", \"75aUF4ol4fJRXrEma76oQb\"),\n",
    "    \"Qdot\" : (\"jidegold2004\", \"3VRPBzS56QfYiaz4azn7V7\"),\n",
    "    \"Mayorkun Of Lagos\" : (\"Ladonsyl\", \"5tejZKyGUTpPXaexImNum9\"),\n",
    "    \"Joeboy, Fireboy 'n' Co\" : (\"Solomon Ajasin\", \"4I5tMgyYhLewl3ic9HiJNI\"),\n",
    "    \"Reekado Bank\" : (\"Mohtunrahyo Opeyhemy\", \"1aZl2jN4olTlmEgGDwhsZH\"),\n",
    "    \"Naija Heat 2020\" : (\"Entiar\", \"6omtoYWO4IMVgUNF0vNI8L\"),\n",
    "    \"Naija Old Skool 2000's\" : (\"Dumebi Gerrard Isichei\", \"17nS1RMfAehXAWZ4wHhPWM\")\n",
    "}"
   ]
  },
  {
   "cell_type": "code",
   "execution_count": 1003,
   "metadata": {},
   "outputs": [],
   "source": [
    "def analyze_playlist_dict(playlist_dict):\n",
    "    \n",
    "    \"\"\"\n",
    "    args: playlist dictionary\n",
    "    returns: dataframe of multiple spotify playlists\n",
    "    \"\"\"\n",
    "    \n",
    "    # Loop through every playlist in the dict and analyze it\n",
    "    for i, (key, val) in enumerate(playlist_dict.items()):\n",
    "        playlist_df = analyze_playlist(*val)\n",
    "        # Add a playlist column so that we can see which playlist a track belongs too\n",
    "        playlist_df[\"playlist\"] = key\n",
    "        # Create or concat df\n",
    "        if i == 0:\n",
    "            playlist_dict_df = playlist_df\n",
    "        else:\n",
    "            playlist_dict_df = pd.concat([playlist_dict_df, playlist_df], ignore_index = True,sort=True)\n",
    "            \n",
    "    return playlist_dict_df"
   ]
  },
  {
   "cell_type": "code",
   "execution_count": 1004,
   "metadata": {},
   "outputs": [],
   "source": [
    "df = analyze_playlist_dict(playlist_dict)"
   ]
  },
  {
   "cell_type": "code",
   "execution_count": 1006,
   "metadata": {},
   "outputs": [
    {
     "name": "stdout",
     "output_type": "stream",
     "text": [
      "2800\n",
      "2063\n"
     ]
    }
   ],
   "source": [
    "# Drop duplicates \n",
    "print(len(df))\n",
    "df = df.sort_values('popularity', ascending=True).drop_duplicates('track_name').sort_index()\n",
    "print(len(df))"
   ]
  },
  {
   "cell_type": "code",
   "execution_count": 2,
   "metadata": {},
   "outputs": [],
   "source": [
    "df.describe()"
   ]
  },
  {
   "cell_type": "code",
   "execution_count": 1009,
   "metadata": {},
   "outputs": [
    {
     "data": {
      "image/png": "[encoded data removed]",
      "text/plain": [
       "<Figure size 432x288 with 1 Axes>"
      ]
     },
     "metadata": {
      "needs_background": "light"
     },
     "output_type": "display_data"
    }
   ],
   "source": [
    "# population is right skewed so it must be log transformed \n",
    "# for a regression analysis \n",
    "# Distribution of Naija songs \n",
    "# I included Sarkodie in this study \n",
    "plt.title(\"Distribution of Afrobeats songs popularity based on values 1 - 100\")\n",
    "df[\"popularity\"].hist();"
   ]
  },
  {
   "cell_type": "code",
   "execution_count": 787,
   "metadata": {},
   "outputs": [],
   "source": [
    "# Logistic regression\n",
    "# random forest\n",
    "# decision tree\n",
    "# neural network \n",
    "# OLS regression "
   ]
  },
  {
   "cell_type": "code",
   "execution_count": 1010,
   "metadata": {},
   "outputs": [],
   "source": [
    "# Logistics regression \n",
    "# function to transform popularity variable into \n",
    "#  binary: 1 if song popularity >= 25\n",
    "# and 0 otherwise\n",
    "def popular(x):\n",
    "    \"\"\"\n",
    "    args: row item in df\n",
    "    returns: 1 or 0\n",
    "    \"\"\"\n",
    "    if x > 47:\n",
    "        return 1\n",
    "    else:\n",
    "        return 0"
   ]
  },
  {
   "cell_type": "code",
   "execution_count": 1011,
   "metadata": {},
   "outputs": [],
   "source": [
    "df['hit'] = df['popularity'].apply(popular)"
   ]
  },
  {
   "cell_type": "code",
   "execution_count": 1074,
   "metadata": {},
   "outputs": [
    {
     "data": {
      "text/plain": [
       "0    1826\n",
       "1     237\n",
       "Name: hit, dtype: int64"
      ]
     },
     "execution_count": 1074,
     "metadata": {},
     "output_type": "execute_result"
    }
   ],
   "source": [
    "# check baseline \n",
    "df['hit'].value_counts()"
   ]
  },
  {
   "cell_type": "code",
   "execution_count": 641,
   "metadata": {},
   "outputs": [],
   "source": [
    "#  df.drop('hit',axis=1).corr()"
   ]
  },
  {
   "cell_type": "code",
   "execution_count": 1013,
   "metadata": {},
   "outputs": [],
   "source": [
    "from sklearn.model_selection import train_test_split\n",
    "from sklearn.linear_model import LogisticRegression\n",
    "from sklearn.preprocessing import StandardScaler\n",
    "from sklearn import metrics"
   ]
  },
  {
   "cell_type": "code",
   "execution_count": 1031,
   "metadata": {},
   "outputs": [
    {
     "data": {
      "image/png": "[encoded data removed]",
      "text/plain": [
       "<Figure size 432x288 with 1 Axes>"
      ]
     },
     "metadata": {
      "needs_background": "light"
     },
     "output_type": "display_data"
    }
   ],
   "source": [
    "# visualize target variable \n",
    "plt.title('Count of hits and non-hits')\n",
    "df['hit'].value_counts()\n",
    "sns.countplot(x='hit',data=df,palette='hls')\n",
    "plt.show()"
   ]
  },
  {
   "cell_type": "code",
   "execution_count": 1015,
   "metadata": {},
   "outputs": [],
   "source": [
    "# Divide up target and features \n",
    "X = df[['danceability','acousticness','duration_ms','energy','instrumentalness','key','liveness',\n",
    "       'loudness','mode','speechiness','tempo', 'time_signature','valence']]\n",
    "y = df['hit']"
   ]
  },
  {
   "cell_type": "code",
   "execution_count": 1016,
   "metadata": {},
   "outputs": [],
   "source": [
    "# 3-way split \n",
    "X_train, X_test, y_train, y_test = train_test_split(X, y, test_size=0.2, random_state=1)\n",
    "\n",
    "X_train, X_val, y_train, y_val = train_test_split(X_train, y_train, test_size=0.25, random_state=1) # 0.25 x 0.8 = 0.2"
   ]
  },
  {
   "cell_type": "code",
   "execution_count": 888,
   "metadata": {},
   "outputs": [],
   "source": [
    "X_train,X_test,y_train,y_test=train_test_split(X,y,test_size=0.30,random_state=0)"
   ]
  },
  {
   "cell_type": "code",
   "execution_count": 1017,
   "metadata": {},
   "outputs": [],
   "source": [
    "# standardize \n",
    "scaler = StandardScaler()\n",
    "X_train_scaled = scaler.fit_transform(X_train)\n",
    "X_test_scaled = scaler.transform(X_test)\n",
    "\n",
    "X_val_scaled = scaler.transform(X_val)\n"
   ]
  },
  {
   "cell_type": "code",
   "execution_count": 1018,
   "metadata": {},
   "outputs": [
    {
     "data": {
      "text/plain": [
       "LogisticRegression(C=1.0, class_weight=None, dual=False, fit_intercept=True,\n",
       "                   intercept_scaling=1, l1_ratio=None, max_iter=100,\n",
       "                   multi_class='warn', n_jobs=None, penalty='l2',\n",
       "                   random_state=None, solver='warn', tol=0.0001, verbose=0,\n",
       "                   warm_start=False)"
      ]
     },
     "execution_count": 1018,
     "metadata": {},
     "output_type": "execute_result"
    }
   ],
   "source": [
    "# Logistic regression\n",
    "logreg = LogisticRegression()\n",
    "logreg.fit(X_train_scaled,y_train)"
   ]
  },
  {
   "cell_type": "code",
   "execution_count": 1019,
   "metadata": {},
   "outputs": [],
   "source": [
    "# test set \n",
    "y_pred=logreg.predict(X_test_scaled)\n"
   ]
  },
  {
   "cell_type": "code",
   "execution_count": 1020,
   "metadata": {},
   "outputs": [
    {
     "data": {
      "text/plain": [
       "array([[359,   3],\n",
       "       [ 50,   1]])"
      ]
     },
     "execution_count": 1020,
     "metadata": {},
     "output_type": "execute_result"
    }
   ],
   "source": [
    "cnf_matrix = metrics.confusion_matrix(y_test, y_pred)\n",
    "cnf_matrix"
   ]
  },
  {
   "cell_type": "code",
   "execution_count": 879,
   "metadata": {},
   "outputs": [],
   "source": [
    "# Evaluation metrics \n",
    "\n",
    "print(\"Accuracy:\",metrics.accuracy_score(y_test, y_pred))\n",
    "print(\"Precision:\",metrics.precision_score(y_test, y_pred))\n",
    "print(\"Recall:\",metrics.recall_score(y_test, y_pred))"
   ]
  },
  {
   "cell_type": "code",
   "execution_count": 3,
   "metadata": {},
   "outputs": [],
   "source": [
    "from sklearn.metrics import classification_report,confusion_matrix\n",
    "print(classification_report(y_test,y_pred))"
   ]
  },
  {
   "cell_type": "code",
   "execution_count": 1022,
   "metadata": {},
   "outputs": [],
   "source": [
    "# val set \n",
    "\n",
    "yval_pred=logreg.predict(X_val_scaled)"
   ]
  },
  {
   "cell_type": "code",
   "execution_count": 4,
   "metadata": {},
   "outputs": [],
   "source": [
    "cnf_matrix = metrics.confusion_matrix(y_val, yval_pred)\n",
    "cnf_matrix"
   ]
  },
  {
   "cell_type": "code",
   "execution_count": 1,
   "metadata": {},
   "outputs": [],
   "source": [
    "from sklearn.metrics import classification_report,confusion_matrix\n",
    "print(classification_report(y_val,yval_pred))"
   ]
  },
  {
   "cell_type": "code",
   "execution_count": 1028,
   "metadata": {},
   "outputs": [
    {
     "data": {
      "image/png": "[encoded data removed]",
      "text/plain": [
       "<Figure size 432x288 with 1 Axes>"
      ]
     },
     "metadata": {
      "needs_background": "light"
     },
     "output_type": "display_data"
    }
   ],
   "source": [
    "# plot coefficients \n",
    "# Strength of relationship between target variable and features\n",
    "\n",
    "import matplotlib.pyplot as plt\n",
    "%matplotlib inline\n",
    "plt.title(\"Strength of relationship bewteen target and features\")\n",
    "coefficients = pd.Series(logreg.coef_[0], X_train.columns)\n",
    "coefficients.sort_values().plot.barh();"
   ]
  },
  {
   "cell_type": "code",
   "execution_count": 1027,
   "metadata": {},
   "outputs": [
    {
     "data": {
      "image/png": "[encoded data removed]",
      "text/plain": [
       "<Figure size 432x288 with 1 Axes>"
      ]
     },
     "metadata": {
      "needs_background": "light"
     },
     "output_type": "display_data"
    }
   ],
   "source": [
    "y_pred_proba = logreg.predict_proba(X_test_scaled)[::,1]\n",
    "fpr, tpr, _ = metrics.roc_curve(y_test,  y_pred_proba)\n",
    "auc = metrics.roc_auc_score(y_test, y_pred_proba)\n",
    "plt.plot(fpr,tpr,label=\"data 1, auc=\"+str(auc))\n",
    "plt.legend(loc=4)\n",
    "plt.title('ROC Curve')\n",
    "\n",
    "plt.show()"
   ]
  },
  {
   "cell_type": "code",
   "execution_count": null,
   "metadata": {},
   "outputs": [],
   "source": []
  },
  {
   "cell_type": "code",
   "execution_count": null,
   "metadata": {},
   "outputs": [],
   "source": [
    "# Decision Tree "
   ]
  },
  {
   "cell_type": "code",
   "execution_count": 897,
   "metadata": {},
   "outputs": [],
   "source": [
    "from sklearn.model_selection import train_test_split\n",
    "X_train,X_test,y_train,y_test=train_test_split(X,y,test_size=0.30, random_state=0)"
   ]
  },
  {
   "cell_type": "code",
   "execution_count": 1041,
   "metadata": {},
   "outputs": [],
   "source": [
    "from sklearn import tree\n",
    "clf = tree.DecisionTreeClassifier()\n",
    "clf = clf.fit(X_train, y_train)"
   ]
  },
  {
   "cell_type": "code",
   "execution_count": 1042,
   "metadata": {},
   "outputs": [],
   "source": [
    "# test set \n",
    "y_pred = clf.predict(X_test)"
   ]
  },
  {
   "cell_type": "code",
   "execution_count": 1043,
   "metadata": {},
   "outputs": [
    {
     "data": {
      "text/plain": [
       "array([[326,  36],\n",
       "       [ 39,  12]])"
      ]
     },
     "execution_count": 1043,
     "metadata": {},
     "output_type": "execute_result"
    }
   ],
   "source": [
    "cnf_matrix = metrics.confusion_matrix(y_test, y_pred)\n",
    "cnf_matrix"
   ]
  },
  {
   "cell_type": "code",
   "execution_count": 5,
   "metadata": {},
   "outputs": [],
   "source": [
    "from sklearn.metrics import classification_report,confusion_matrix\n",
    "print(classification_report(y_test,y_pred))"
   ]
  },
  {
   "cell_type": "code",
   "execution_count": null,
   "metadata": {},
   "outputs": [],
   "source": [
    "# validation set "
   ]
  },
  {
   "cell_type": "code",
   "execution_count": 1045,
   "metadata": {},
   "outputs": [],
   "source": [
    "y_val_pred = clf.predict(X_val)"
   ]
  },
  {
   "cell_type": "code",
   "execution_count": 1046,
   "metadata": {},
   "outputs": [
    {
     "data": {
      "text/plain": [
       "array([[330,  41],\n",
       "       [ 33,   9]])"
      ]
     },
     "execution_count": 1046,
     "metadata": {},
     "output_type": "execute_result"
    }
   ],
   "source": [
    "cnf_matrix = metrics.confusion_matrix(y_val, y_val_pred)\n",
    "cnf_matrix"
   ]
  },
  {
   "cell_type": "code",
   "execution_count": 6,
   "metadata": {},
   "outputs": [],
   "source": [
    "from sklearn.metrics import classification_report,confusion_matrix\n",
    "print(classification_report(y_val,y_val_pred))"
   ]
  },
  {
   "cell_type": "code",
   "execution_count": 729,
   "metadata": {},
   "outputs": [],
   "source": [
    "# # visualize decision tree\n",
    "import os\n",
    "import graphviz \n",
    "dot_data = tree.export_graphviz(clf, out_file=None, \n",
    "                                feature_names=feature_names,class_names=['Hit','Non-Hit'],filled=True, rounded=True,special_characters=True)\n",
    "graph = graphviz.Source(dot_data)\n",
    "graph"
   ]
  },
  {
   "cell_type": "code",
   "execution_count": null,
   "metadata": {},
   "outputs": [],
   "source": [
    "# Random Forest "
   ]
  },
  {
   "cell_type": "code",
   "execution_count": 1048,
   "metadata": {},
   "outputs": [],
   "source": [
    "from sklearn.ensemble import RandomForestClassifier"
   ]
  },
  {
   "cell_type": "code",
   "execution_count": 1049,
   "metadata": {},
   "outputs": [],
   "source": [
    "clf = RandomForestClassifier(random_state=100)"
   ]
  },
  {
   "cell_type": "code",
   "execution_count": 1050,
   "metadata": {},
   "outputs": [],
   "source": [
    "# Create the model on train dataset\n",
    "model = clf.fit(X_train, y_train)"
   ]
  },
  {
   "cell_type": "code",
   "execution_count": 1051,
   "metadata": {},
   "outputs": [],
   "source": [
    "prediction = model.predict(X_test)"
   ]
  },
  {
   "cell_type": "code",
   "execution_count": 7,
   "metadata": {},
   "outputs": [],
   "source": [
    "RF_matrix = metrics.confusion_matrix(y_test, prediction)\n",
    "RF_matrix"
   ]
  },
  {
   "cell_type": "code",
   "execution_count": 8,
   "metadata": {},
   "outputs": [],
   "source": [
    "from sklearn.metrics import classification_report,confusion_matrix\n",
    "print(classification_report(y_test,prediction))"
   ]
  },
  {
   "cell_type": "code",
   "execution_count": 1054,
   "metadata": {},
   "outputs": [],
   "source": [
    "# val set \n",
    "val_prediction = model.predict(X_val)"
   ]
  },
  {
   "cell_type": "code",
   "execution_count": 1055,
   "metadata": {},
   "outputs": [
    {
     "data": {
      "text/plain": [
       "array([[368,   3],\n",
       "       [ 39,   3]])"
      ]
     },
     "execution_count": 1055,
     "metadata": {},
     "output_type": "execute_result"
    }
   ],
   "source": [
    "RF_matrix2 = metrics.confusion_matrix(y_val, val_prediction)\n",
    "RF_matrix2"
   ]
  },
  {
   "cell_type": "code",
   "execution_count": 9,
   "metadata": {},
   "outputs": [],
   "source": [
    "from sklearn.metrics import classification_report,confusion_matrix\n",
    "print(classification_report(y_val,val_prediction))"
   ]
  },
  {
   "cell_type": "code",
   "execution_count": null,
   "metadata": {},
   "outputs": [],
   "source": []
  },
  {
   "cell_type": "code",
   "execution_count": null,
   "metadata": {},
   "outputs": [],
   "source": [
    "# Gradient Boosting "
   ]
  },
  {
   "cell_type": "code",
   "execution_count": 1057,
   "metadata": {},
   "outputs": [],
   "source": [
    "# Convert dtypes for Gradient Boosting technique \n",
    "\n",
    "X_train['duration_ms'] = pd.to_numeric(X_train['duration_ms'])\n",
    "X_train['instrumentalness'] = pd.to_numeric(X_train['instrumentalness'])\n",
    "X_train['key'] = pd.to_numeric(X_train['key'])\n",
    "X_train['mode'] = pd.to_numeric(X_train['mode'])\n",
    "X_train['time_signature'] = pd.to_numeric(X_train['time_signature'])\n",
    "\n",
    "\n",
    "X_test['duration_ms'] = pd.to_numeric(X_test['duration_ms'])\n",
    "X_test['instrumentalness'] = pd.to_numeric(X_test['instrumentalness'])\n",
    "X_test['key'] = pd.to_numeric(X_test['key'])\n",
    "X_test['mode'] = pd.to_numeric(X_test['mode'])\n",
    "X_test['time_signature'] = pd.to_numeric(X_test['time_signature'])\n",
    "\n",
    "\n",
    "X_val['duration_ms'] = pd.to_numeric(X_val['duration_ms'])\n",
    "X_val['instrumentalness'] = pd.to_numeric(X_val['instrumentalness'])\n",
    "X_val['key'] = pd.to_numeric(X_val['key'])\n",
    "X_val['mode'] = pd.to_numeric(X_val['mode'])\n",
    "X_val['time_signature'] = pd.to_numeric(X_val['time_signature'])\n",
    "\n"
   ]
  },
  {
   "cell_type": "code",
   "execution_count": null,
   "metadata": {},
   "outputs": [],
   "source": [
    "# XGBOOST Classifier "
   ]
  },
  {
   "cell_type": "code",
   "execution_count": 10,
   "metadata": {},
   "outputs": [],
   "source": [
    "# Fit model using XGBoost Classifier \n",
    "\n",
    "from sklearn.pipeline import make_pipeline\n",
    "from xgboost import XGBClassifier\n",
    "\n",
    "\n",
    "model = XGBClassifier(n_estimators=100, n_jobs=-1)\n",
    "model.fit(X_train, y_train, eval_metric='auc')"
   ]
  },
  {
   "cell_type": "code",
   "execution_count": null,
   "metadata": {},
   "outputs": [],
   "source": []
  },
  {
   "cell_type": "code",
   "execution_count": 11,
   "metadata": {},
   "outputs": [],
   "source": [
    "# ROC AUC for XGBoost classifier \n",
    "from sklearn.metrics import roc_auc_score\n",
    "\n",
    "\n",
    "y_pred = model.predict(X_test)\n",
    "print(roc_auc_score(y_test, y_pred)) # Ranges from 0-1, higher is better"
   ]
  },
  {
   "cell_type": "code",
   "execution_count": 12,
   "metadata": {},
   "outputs": [],
   "source": [
    "xgb_matrix = metrics.confusion_matrix(y_test, y_pred)\n",
    "xgb_matrix"
   ]
  },
  {
   "cell_type": "code",
   "execution_count": 13,
   "metadata": {},
   "outputs": [],
   "source": [
    "from sklearn.metrics import classification_report,confusion_matrix\n",
    "print(classification_report(y_test,y_pred))"
   ]
  },
  {
   "cell_type": "code",
   "execution_count": 1069,
   "metadata": {},
   "outputs": [],
   "source": [
    "# val set \n",
    "y_pred2 = model.predict(X_val)"
   ]
  },
  {
   "cell_type": "code",
   "execution_count": 14,
   "metadata": {},
   "outputs": [],
   "source": [
    "xgb_matrix2 = metrics.confusion_matrix(y_val, y_pred2)\n",
    "xgb_matrix2"
   ]
  },
  {
   "cell_type": "code",
   "execution_count": 15,
   "metadata": {},
   "outputs": [],
   "source": [
    "from sklearn.metrics import classification_report,confusion_matrix\n",
    "print(classification_report(y_val,y_pred2))"
   ]
  },
  {
   "cell_type": "code",
   "execution_count": null,
   "metadata": {},
   "outputs": [],
   "source": [
    "import sklearn.metrics as metrics\n",
    "\n",
    "probs = model.predict_proba(X_test)\n",
    "preds = probs[:,1]\n",
    "fpr, tpr, threshold = metrics.roc_curve(y_test, preds)\n",
    "roc_auc = metrics.auc(fpr, tpr)"
   ]
  },
  {
   "cell_type": "code",
   "execution_count": 17,
   "metadata": {},
   "outputs": [],
   "source": [
    "df.sort_values('popularity', ascending=False).head(20)"
   ]
  },
  {
   "cell_type": "code",
   "execution_count": 990,
   "metadata": {},
   "outputs": [
    {
     "data": {
      "text/plain": [
       "Index(['danceability', 'duration_ms', 'energy', 'instrumentalness', 'key',\n",
       "       'liveness', 'loudness', 'mode', 'speechiness', 'tempo',\n",
       "       'time_signature', 'valence'],\n",
       "      dtype='object')"
      ]
     },
     "execution_count": 990,
     "metadata": {},
     "output_type": "execute_result"
    }
   ],
   "source": [
    "X_train.columns"
   ]
  },
  {
   "cell_type": "code",
   "execution_count": 1007,
   "metadata": {},
   "outputs": [],
   "source": [
    "# Export CSV \n",
    "df.to_csv(\"beatsofafro-final.csv\", index = False)"
   ]
  },
  {
   "cell_type": "code",
   "execution_count": null,
   "metadata": {},
   "outputs": [],
   "source": [
    "# Neural Network with Keras Classifier wrapper"
   ]
  },
  {
   "cell_type": "code",
   "execution_count": null,
   "metadata": {},
   "outputs": [],
   "source": [
    "\n",
    "import numpy as np\n",
    "import pandas as pd\n",
    "from tensorflow.keras.optimizers import Adam\n",
    "from sklearn.model_selection import GridSearchCV\n",
    "from tensorflow.keras.models import Sequential\n",
    "from tensorflow.keras.layers import Dense\n",
    "from tensorflow.keras.wrappers.scikit_learn import KerasClassifier\n",
    "from keras.callbacks import ModelCheckpoint,EarlyStopping,ReduceLROnPlateau\n",
    "from keras.callbacks import Callback\n",
    "from sklearn.metrics import confusion_matrix, f1_score, precision_score, recall_score\n",
    "\n",
    "# Function to create model, required for KerasClassifier\n",
    "def create_model(lr=0.01):\n",
    "    # create model\n",
    "    opt = Adam(learning_rate=lr)\n",
    "    model = Sequential()\n",
    "    model.add(Dense(4, activation='relu'))\n",
    "    model.add(Dense(4, activation='relu'))\n",
    "    model.add(Dense(1, activation='sigmoid'))\n",
    "    # Compile model\n",
    "    model.compile(loss='binary_crossentropy', optimizer=opt, metrics=['accuracy'])\n",
    "    return model\n",
    "\n",
    "# create model\n",
    "model = KerasClassifier(build_fn=create_model, verbose=0)\n",
    "\n",
    "# define the grid search parameters\n",
    "# batch_size = [10, 20, 40, 60, 80, 100]\n",
    "# param_grid = dict(batch_size=batch_size, epochs=epochs)\n",
    "\n",
    "# define the grid search parameters\n",
    "\n",
    "param_grid = {'batch_size': [8],\n",
    "              'epochs': [10],\n",
    "              'lr':[0.01]}\n",
    "\n",
    "# Create Grid Search\n",
    "grid = GridSearchCV(estimator=model, param_grid=param_grid, n_jobs=1)\n",
    "grid_result = grid.fit(X_train, y_train)\n",
    "y_pred = grid_result.predict(X_test)\n",
    "print(classification_report(y_test,y_pred))\n",
    "print(metrics.confusion_matrix(y_test,y_pred))\n",
    "\n",
    "\n",
    "\n",
    "# Report Results\n",
    "print(f\"Best: {grid_result.best_score_} using {grid_result.best_params_}\")\n",
    "means = grid_result.cv_results_['mean_test_score']\n",
    "stds = grid_result.cv_results_['std_test_score']\n",
    "params = grid_result.cv_results_['params']\n",
    "for mean, stdev, param in zip(means, stds, params):\n",
    "    print(f\"Means: {mean}, Stdev: {stdev} with: {param}\")"
   ]
  },
  {
   "cell_type": "code",
   "execution_count": null,
   "metadata": {},
   "outputs": [],
   "source": []
  }
 ],
 "metadata": {
  "kernelspec": {
   "display_name": "Python 3",
   "language": "python",
   "name": "python3"
  },
  "language_info": {
   "codemirror_mode": {
    "name": "ipython",
    "version": 3
   },
   "file_extension": ".py",
   "mimetype": "text/x-python",
   "name": "python",
   "nbconvert_exporter": "python",
   "pygments_lexer": "ipython3",
   "version": "3.7.4"
  }
 },
 "nbformat": 4,
 "nbformat_minor": 2
}
